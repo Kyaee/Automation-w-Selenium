{
 "cells": [
  {
   "cell_type": "markdown",
   "id": "a0b5dae6",
   "metadata": {},
   "source": [
    "Search Elements in the HTML"
   ]
  },
  {
   "cell_type": "code",
   "execution_count": null,
   "id": "86a98a73",
   "metadata": {},
   "outputs": [],
   "source": [
    "from selenium import webdriver\n",
    "from selenium.webdriver.chrome.service import Service\n",
    "from selenium.webdriver.common.by import By\n",
    "import time\n",
    "\n",
    "service = Service(executable_path='chromedriver.exe')  # Update with your chromedriver path\n",
    "driver = webdriver.Chrome(service=service)\n",
    "\n",
    "try: \n",
    "    driver.get(\"https://www.google.com\")\n",
    "    title = driver.title\n",
    "    element = driver.find_element(By.CLASS_NAME, \"gLFyf\")\n",
    "    element.clear()  # Clear the input field before sending keys\n",
    "    element.send_keys(\"Selenium WebDriver\")\n",
    "    element.send_keys(\"\\n\") # Simulate pressing Enter key\n",
    "    time.sleep(5)  # Wait for the page to load\n",
    "    print(element.text)\n",
    "    print(title)\n",
    "    \n",
    "finally:\n",
    "    driver.quit()\n"
   ]
  },
  {
   "cell_type": "markdown",
   "id": "476261c7",
   "metadata": {},
   "source": [
    "Wait for an element to load before running the initial automation"
   ]
  },
  {
   "cell_type": "code",
   "execution_count": null,
   "id": "12474a47",
   "metadata": {},
   "outputs": [],
   "source": [
    "from selenium.webdriver.common.keys import Keys\n",
    "from selenium.webdriver.support.ui import WebDriverWait, expected_conditions as EC\n",
    "\n",
    "# This is after the `.get` element\n",
    "WebDriverWait(driver, 10).until(\n",
    "    EC.presence_of_element_located((By.CLASS_NAME, \"gLFyf\"))\n",
    ")"
   ]
  },
  {
   "cell_type": "markdown",
   "id": "20bec2d5",
   "metadata": {},
   "source": []
  }
 ],
 "metadata": {
  "kernelspec": {
   "display_name": ".venv",
   "language": "python",
   "name": "python3"
  },
  "language_info": {
   "codemirror_mode": {
    "name": "ipython",
    "version": 3
   },
   "file_extension": ".py",
   "mimetype": "text/x-python",
   "name": "python",
   "nbconvert_exporter": "python",
   "pygments_lexer": "ipython3",
   "version": "3.13.3"
  }
 },
 "nbformat": 4,
 "nbformat_minor": 5
}
