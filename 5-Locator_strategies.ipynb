{
 "cells": [
  {
   "cell_type": "code",
   "execution_count": null,
   "id": "8ae75ca9",
   "metadata": {},
   "outputs": [],
   "source": [
    "from selenium.webdriver.common.by import By\n",
    "driver = None"
   ]
  },
  {
   "cell_type": "markdown",
   "id": "d8d3ca42",
   "metadata": {},
   "source": [
    "Locator Strategies\n",
    "<table border=\"1\" style=\"font-size:13px\">\n",
    "  <thead>\n",
    "    <tr>\n",
    "      <th>Locator Strategy</th>\n",
    "      <th>Description</th>\n",
    "      <th>Selenium `By` Function Example</th>\n",
    "    </tr>\n",
    "  </thead>\n",
    "  <tbody>\n",
    "    <tr>\n",
    "      <td>Class Name</td>\n",
    "      <td>Locates elements whose class name contains the search value (compound class names are not permitted).</td>\n",
    "      <td><code>By.CLASS_NAME(\"your-class-name\")</code></td>\n",
    "    </tr>\n",
    "    <tr>\n",
    "      <td>CSS Selector</td>\n",
    "      <td>Locates elements matching a CSS selector.</td>\n",
    "      <td><code>By.CSS_SELECTOR(\"div.your-class#your-id\")</code></td>\n",
    "    </tr>\n",
    "    <tr>\n",
    "      <td>ID</td>\n",
    "      <td>Locates elements whose ID attribute matches the search value.</td>\n",
    "      <td><code>By.ID(\"your-id\")</code></td>\n",
    "    </tr>\n",
    "    <tr>\n",
    "      <td>Name</td>\n",
    "      <td>Locates elements whose NAME attribute matches the search value.</td>\n",
    "      <td><code>By.NAME(\"your-name-attribute\")</code></td>\n",
    "    </tr>\n",
    "    <tr>\n",
    "      <td>Link Text</td>\n",
    "      <td>Locates anchor elements whose visible text matches the search value.</td>\n",
    "      <td><code>By.LINK_TEXT(\"Click Me\")</code></td>\n",
    "    </tr>\n",
    "    <tr>\n",
    "      <td>Partial Link Text</td>\n",
    "      <td>Locates anchor elements whose visible text contains the search value. If multiple elements are matching, only the first one will be selected.</td>\n",
    "      <td><code>By.PARTIAL_LINK_TEXT(\"Click\")</code></td>\n",
    "    </tr>\n",
    "    <tr>\n",
    "      <td>Tag Name</td>\n",
    "      <td>Locates elements whose tag name matches the search value.</td>\n",
    "      <td><code>By.TAG_NAME(\"div\")</code></td>\n",
    "    </tr>\n",
    "    <tr>\n",
    "      <td>XPath</td>\n",
    "      <td>Locates elements matching an XPath expression.</td>\n",
    "      <td><code>By.XPATH(\"//div[@id='your-id']\")</code></td>\n",
    "    </tr>\n",
    "  </tbody>\n",
    "</table>"
   ]
  },
  {
   "cell_type": "code",
   "execution_count": null,
   "id": "3526704b",
   "metadata": {},
   "outputs": [],
   "source": [
    "# xpath\n",
    "element = driver.find_element(By.XPATH, \"//input[@id='fname']\")\n",
    "\n",
    "# `class` or `class_name`\n",
    "element = driver.find_element(By.CLASS_NAME, \"information\")\n",
    "\n",
    "# `id`\n",
    "element = driver.find_element(By.CSS_SELECTOR, \"#fname\")\n",
    "\n",
    "# `name`\n",
    "element = driver.find_element(By.NAME, 'newsletter')\n",
    "\n",
    "# Link text \n",
    "element = driver.find_element(By.LINK_TEXT, \"Selenium Official Page\")\n",
    "\n",
    "# Partial link text\n",
    "element = driver.find_element(By.PARTIAL_LINK_TEXT, \"Selenium\")\n",
    "\n",
    "# Tag name or specific element\n",
    "element = driver.find_element(By.TAG_NAME, \"a\")\n",
    "\n"
   ]
  }
 ],
 "metadata": {
  "kernelspec": {
   "display_name": ".venv",
   "language": "python",
   "name": "python3"
  },
  "language_info": {
   "codemirror_mode": {
    "name": "ipython",
    "version": 3
   },
   "file_extension": ".py",
   "mimetype": "text/x-python",
   "name": "python",
   "nbconvert_exporter": "python",
   "pygments_lexer": "ipython3",
   "version": "3.13.3"
  }
 },
 "nbformat": 4,
 "nbformat_minor": 5
}
