{
 "cells": [
  {
   "cell_type": "markdown",
   "id": "1087f1d0",
   "metadata": {},
   "source": [
    "## Let's start with Browser Options"
   ]
  },
  {
   "cell_type": "code",
   "execution_count": null,
   "id": "b66b34be",
   "metadata": {},
   "outputs": [],
   "source": [
    "# REUSABLE CUSTOM FUNCTION\n",
    "from selenium.webdriver.chrome.options import Options\n",
    "\n",
    "# REUSABLE FUNCTION TO GET DEFAULT CHROME OPTIONS\n",
    "def get_default_chrome_options():\n",
    "    options = Options()\n",
    "    options.add_argument(\"--disable-gpu\")\n",
    "    options.add_argument(\"--no-sandbox\")\n",
    "    options.add_argument(\"--headless\")\n",
    "    options.add_argument(\"start-maximized\")\n",
    "    options.add_argument(\"disable-infobars\")\n",
    "    options.add_argument(\"--disable-extensions\")\n",
    "    return options\n",
    "\n",
    "chrome_options = get_default_chrome_options()"
   ]
  },
  {
   "cell_type": "markdown",
   "id": "2b05d004",
   "metadata": {},
   "source": [
    "#### Proxy\n",
    "A proxy server **acts as an intermediary for requests between a client and a server**. <br/>\n",
    "The traffic flows through the proxy server on its way to the address you requested and back.\n",
    "\n",
    "A proxy server for automation scripts with Selenium could be helpful for:\n",
    "- Capture network traffic\n",
    "- Mock backend calls made by the website\n",
    "- Access the required website under complex network topologies or strict corporate restrictions/policies.\n",
    "\n",
    "If you are in a corporate environment, and a browser fails to connect to a URL, this is most likely because the environment needs a proxy to be accessed."
   ]
  },
  {
   "cell_type": "code",
   "execution_count": null,
   "id": "a19c7bb1",
   "metadata": {},
   "outputs": [],
   "source": [
    "# EXAMPLE\n",
    "from selenium.webdriver.common.proxy import Proxy, ProxyType\n",
    "\n",
    "chrome_options.proxy = Proxy({ 'proxyType': ProxyType.MANUAL, 'httpProxy' : 'http.proxy:1234'})"
   ]
  },
  {
   "cell_type": "markdown",
   "id": "2604be4f",
   "metadata": {},
   "source": [
    "There are three types of browser versions you can specify:\n",
    "- `stable`: The latest stable version of the browser.\n",
    "- `beta`: The latest beta version of the browser.\n",
    "- `dev`: The latest development version of the browser."
   ]
  },
  {
   "cell_type": "code",
   "execution_count": null,
   "id": "a3927cb0",
   "metadata": {},
   "outputs": [],
   "source": [
    "# Default browser version can be set if needed\n",
    "chrome_options.browser_version = 'stable'"
   ]
  },
  {
   "cell_type": "markdown",
   "id": "95d77e43",
   "metadata": {},
   "source": [
    "#### Timeout\n",
    "You can control the behavior of executing scripts or retrieving information from the browser\n",
    "> A webdriver session is imposed with a session timeout interval\n",
    "- `script`: when to interrupt an executing script in a current browsing context.\n",
    "- `pageLoad`: Page loading timeout\n",
    "- `implicit`: time to wait for the implicit element location strategy when locating elements."
   ]
  },
  {
   "cell_type": "code",
   "execution_count": null,
   "id": "7a85aacb",
   "metadata": {},
   "outputs": [],
   "source": [
    "chrome_options.page_load_strategy = 'normal'  # can be 'normal', 'eager', or 'none'"
   ]
  },
  {
   "cell_type": "markdown",
   "id": "2c4851d0",
   "metadata": {},
   "source": [
    "Define the platform, returns the operating system.\n",
    "> In cloud based providers, setting `platform_name` sets the OS at the remote-end."
   ]
  },
  {
   "cell_type": "code",
   "execution_count": null,
   "id": "9e2ffe03",
   "metadata": {},
   "outputs": [],
   "source": [
    "chrome_options.platform_name = 'any'"
   ]
  },
  {
   "cell_type": "markdown",
   "id": "709d0adf",
   "metadata": {},
   "source": [
    "When you want to accept insecure sites with expired or invalid `TLS Certificate` \n",
    "- If the capability is set to false, an insecure certificate error will be returned as navigation encounters any domain certificate problems. If set to true, invalid certificate will be trusted by the browser."
   ]
  },
  {
   "cell_type": "code",
   "execution_count": null,
   "id": "b5c841af",
   "metadata": {},
   "outputs": [],
   "source": [
    "chrome_options.accept_insecure_certs = True  # Accept insecure certificates"
   ]
  }
 ],
 "metadata": {
  "kernelspec": {
   "display_name": ".venv",
   "language": "python",
   "name": "python3"
  },
  "language_info": {
   "codemirror_mode": {
    "name": "ipython",
    "version": 3
   },
   "file_extension": ".py",
   "mimetype": "text/x-python",
   "name": "python",
   "nbconvert_exporter": "python",
   "pygments_lexer": "ipython3",
   "version": "3.13.3"
  }
 },
 "nbformat": 4,
 "nbformat_minor": 5
}
