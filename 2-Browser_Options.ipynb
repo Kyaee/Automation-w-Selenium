{
 "cells": [
  {
   "cell_type": "markdown",
   "id": "1087f1d0",
   "metadata": {},
   "source": [
    "## Let's start with Browser Options"
   ]
  },
  {
   "cell_type": "code",
   "execution_count": null,
   "id": "b66b34be",
   "metadata": {},
   "outputs": [],
   "source": [
    "# REUSABLE CUSTOM FUNCTION\n",
    "from selenium.webdriver.chrome.options import Options\n",
    "\n",
    "# REUSABLE FUNCTION TO GET DEFAULT CHROME OPTIONS\n",
    "def get_default_chrome_options():\n",
    "    options = Options()\n",
    "    options.add_argument(\"--disable-gpu\")\n",
    "    options.add_argument(\"--no-sandbox\")\n",
    "    options.add_argument(\"--headless\")\n",
    "    options.add_argument(\"start-maximized\")\n",
    "    options.add_argument(\"disable-infobars\")\n",
    "    options.add_argument(\"--disable-extensions\")\n",
    "    return options\n",
    "\n",
    "chrome_options = get_default_chrome_options()"
   ]
  },
  {
   "cell_type": "markdown",
   "id": "2604be4f",
   "metadata": {},
   "source": [
    "There are three types of browser versions you can specify:\n",
    "- `stable`: The latest stable version of the browser.\n",
    "- `beta`: The latest beta version of the browser.\n",
    "- `dev`: The latest development version of the browser."
   ]
  },
  {
   "cell_type": "code",
   "execution_count": null,
   "id": "a3927cb0",
   "metadata": {},
   "outputs": [],
   "source": [
    "# Default browser version can be set if needed\n",
    "chrome_options.browser_version = 'stable'"
   ]
  },
  {
   "cell_type": "markdown",
   "id": "61e6868a",
   "metadata": {},
   "source": [
    "Three types of `page_load_strategies` are available\n",
    "\n",
    "<table>\n",
    "  <tr>\n",
    "    <td><b>Strategy</b></td>\n",
    "    <td><b>State</b></td>\n",
    "    <td><b>Description</b></td>\n",
    "  </tr>\n",
    "  <tr>\n",
    "    <td>Normal</td>\n",
    "    <td>Complete</td>\n",
    "    <td>Used by default, waits for all resources to download</td>\n",
    "  </tr>\n",
    "  <tr>\n",
    "    <td>eager</td>\n",
    "    <td>interactive</td>\n",
    "    <td>DOM access is ready, but other resources like images may still be loading</td>\n",
    "  </tr>\n",
    "    <tr>\n",
    "    <td>none</td>\n",
    "    <td>any</td>\n",
    "    <td>Does not block WebDriver at all</td>\n",
    "  </tr>\n",
    "</table>\n"
   ]
  },
  {
   "cell_type": "code",
   "execution_count": null,
   "id": "7a85aacb",
   "metadata": {},
   "outputs": [],
   "source": [
    "chrome_options.page_load_strategy = 'normal'  # can be 'normal', 'eager', or 'none'"
   ]
  },
  {
   "cell_type": "markdown",
   "id": "2c4851d0",
   "metadata": {},
   "source": [
    "Define the platform, returns the operating system.\n",
    "> In cloud based providers, setting `platform_name` sets the OS at the remote-end."
   ]
  },
  {
   "cell_type": "code",
   "execution_count": null,
   "id": "9e2ffe03",
   "metadata": {},
   "outputs": [],
   "source": [
    "chrome_options.platform_name = 'any'\n"
   ]
  }
 ],
 "metadata": {
  "kernelspec": {
   "display_name": ".venv",
   "language": "python",
   "name": "python3"
  },
  "language_info": {
   "codemirror_mode": {
    "name": "ipython",
    "version": 3
   },
   "file_extension": ".py",
   "mimetype": "text/x-python",
   "name": "python",
   "nbconvert_exporter": "python",
   "pygments_lexer": "ipython3",
   "version": "3.13.3"
  }
 },
 "nbformat": 4,
 "nbformat_minor": 5
}
