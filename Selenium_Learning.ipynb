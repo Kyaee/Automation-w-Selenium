{
  "cells": [
    {
      "cell_type": "markdown",
      "metadata": {
        "id": "amRacGCIuUF4"
      },
      "source": [
        "Selenium is used to automate web browsers. Create bots and more..."
      ]
    },
    {
      "cell_type": "code",
      "execution_count": null,
      "metadata": {
        "collapsed": true,
        "id": "mIXjJn3uuKZb"
      },
      "outputs": [],
      "source": [
        "# Install the packages\n",
        "pip install selenium"
      ]
    },
    {
      "cell_type": "markdown",
      "metadata": {
        "id": "tPcO6p0wu4l_"
      },
      "source": [
        "- **WebDriver** is an API and protocol that defines a language-neutral interface for ***controlling the behaviour of web browsers***. Each browser is backed by a specific WebDriver implementation, called a driver.\n",
        "- **The driver** is the component responsible for delegating down to the browser, and handles communication to and from Selenium and the browser."
      ]
    },
    {
      "cell_type": "code",
      "execution_count": 5,
      "metadata": {
        "colab": {
          "base_uri": "https://localhost:8080/",
          "height": 668
        },
        "id": "hUuJFuKYuQWv",
        "outputId": "3bdfef7a-f386-4f08-ac3a-cda69cf85d9c"
      },
      "outputs": [],
      "source": [
        "from selenium import webdriver\n",
        "from selenium.webdriver.chrome.options import Options # allows customization of web driver\n",
        "\n",
        "chrome_options = Options()\n",
        "chrome_options.add_argument(\"--disable-gpu\")\n",
        "chrome_options.add_argument(\"--no-sandbox\")\n",
        "chrome_options.add_argument(\"--headless\")\n",
        "chrome_options.add_argument(\"start-maximized\")\n",
        "chrome_options.add_argument(\"disable-infobars\")\n",
        "chrome_options.add_argument(\"--disable-extensions\")\n",
        "\n",
        "driver = webdriver.Chrome(options=chrome_options)\n",
        "driver.get(\"http://selenium.dev\")\n",
        "driver.quit()"
      ]
    },
    {
      "cell_type": "code",
      "execution_count": null,
      "metadata": {
        "id": "N1-56L-auwrm"
      },
      "outputs": [],
      "source": []
    }
  ],
  "metadata": {
    "colab": {
      "provenance": []
    },
    "kernelspec": {
      "display_name": ".venv",
      "language": "python",
      "name": "python3"
    },
    "language_info": {
      "codemirror_mode": {
        "name": "ipython",
        "version": 3
      },
      "file_extension": ".py",
      "mimetype": "text/x-python",
      "name": "python",
      "nbconvert_exporter": "python",
      "pygments_lexer": "ipython3",
      "version": "3.13.3"
    }
  },
  "nbformat": 4,
  "nbformat_minor": 0
}
