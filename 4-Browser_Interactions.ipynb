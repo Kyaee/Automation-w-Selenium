{
 "cells": [
  {
   "cell_type": "markdown",
   "id": "fa0de427",
   "metadata": {},
   "source": [
    "Browser Navigation"
   ]
  },
  {
   "cell_type": "code",
   "execution_count": 2,
   "id": "c6304544",
   "metadata": {},
   "outputs": [],
   "source": [
    "from selenium import webdriver"
   ]
  },
  {
   "cell_type": "code",
   "execution_count": null,
   "id": "783748c4",
   "metadata": {},
   "outputs": [],
   "source": [
    "driver = None # placeholder, correct: `webdriver.Chrome()`\n",
    "driver.get('https://google.com')\n",
    "\n",
    "driver.back() # previous page in history\n",
    "driver.forward() # next page in history\n",
    "\n",
    "# Refresh\n",
    "driver.refresh() # reloads the current page"
   ]
  },
  {
   "cell_type": "markdown",
   "id": "6f60a393",
   "metadata": {},
   "source": [
    "Browser Interactions"
   ]
  },
  {
   "cell_type": "code",
   "execution_count": null,
   "id": "9fed5141",
   "metadata": {},
   "outputs": [],
   "source": [
    "# Get Page Title\n",
    "title = driver.title\n",
    "\n",
    "# Get Page URL\n",
    "url = driver.current_url"
   ]
  }
 ],
 "metadata": {
  "kernelspec": {
   "display_name": ".venv",
   "language": "python",
   "name": "python3"
  },
  "language_info": {
   "codemirror_mode": {
    "name": "ipython",
    "version": 3
   },
   "file_extension": ".py",
   "mimetype": "text/x-python",
   "name": "python",
   "nbconvert_exporter": "python",
   "pygments_lexer": "ipython3",
   "version": "3.13.3"
  }
 },
 "nbformat": 4,
 "nbformat_minor": 5
}
